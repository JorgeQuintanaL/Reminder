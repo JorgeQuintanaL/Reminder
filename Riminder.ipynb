{
 "cells": [
  {
   "cell_type": "markdown",
   "metadata": {},
   "source": [
    "## Riminder Technical Assessment\n",
    "**Author: Jorge Quintana**\n",
    "<br>\n",
    "**Date: July 23rd, 2018**\n",
    "<hr>"
   ]
  },
  {
   "cell_type": "markdown",
   "metadata": {},
   "source": [
    "## Set Up"
   ]
  },
  {
   "cell_type": "markdown",
   "metadata": {},
   "source": [
    "Loading the JSON file with the data related to the labels for Computer Vision task."
   ]
  },
  {
   "cell_type": "code",
   "execution_count": 49,
   "metadata": {},
   "outputs": [
    {
     "name": "stdout",
     "output_type": "stream",
     "text": [
      "Numpy version: 1.14.3\n",
      "Seaborn version: 0.8.0\n",
      "JSON version: 2.0.9\n",
      "TensorFlow version: 1.8.0\n"
     ]
    }
   ],
   "source": [
    "import warnings\n",
    "warnings.filterwarnings(\"ignore\")\n",
    "\n",
    "import json\n",
    "from os import listdir\n",
    "from PIL import Image as PImage\n",
    "import numpy as np\n",
    "import seaborn as sns\n",
    "import matplotlib.pyplot as plt\n",
    "from scipy import stats\n",
    "from sklearn.model_selection import train_test_split\n",
    "import tensorflow as tf\n",
    "from tensorflow import keras\n",
    "\n",
    "print(\"Numpy version: \" + str(np.__version__))\n",
    "print(\"Seaborn version: \" + str(sns.__version__))\n",
    "print(\"JSON version: \" + str(json.__version__))\n",
    "print(\"TensorFlow version: \" + str(tf.__version__))"
   ]
  },
  {
   "cell_type": "markdown",
   "metadata": {},
   "source": [
    "<hr>\n",
    "## Data Exploration and Pre-processing"
   ]
  },
  {
   "cell_type": "markdown",
   "metadata": {},
   "source": [
    "A dictionary is created using the following structure: {Image, Label}. With that structure is easy to access the full information about the images, such as name, image itself and label. Internally the dictionary has a Numpy array with the RGB information of each picture and the label as a string. On the other, and as a quality and consistency measure, two auxiliar arrays are created to save the dimensions of each picture, n and m."
   ]
  },
  {
   "cell_type": "code",
   "execution_count": 12,
   "metadata": {},
   "outputs": [
    {
     "name": "stdout",
     "output_type": "stream",
     "text": [
      "Number of images loaded and labeled: 1655\n"
     ]
    }
   ],
   "source": [
    "def load_and_label(local: bool):\n",
    "    if local:\n",
    "        path = \"sample/\"\n",
    "    else:\n",
    "        path = \"riminder-test-vision-blanked-resumes-labelled/\"\n",
    "\n",
    "    with open(\"riminder-test-vision-blanked-resumes-labels.json\", \"r\") as read_file:\n",
    "        labels = json.load(read_file)\n",
    "    \n",
    "    images_list = listdir(path)\n",
    "    image = np.array(PImage.open(path + images_list[0]))\n",
    "    images = [image]\n",
    "    label = [labels[images_list[0]]]\n",
    "    n = []\n",
    "    m = []\n",
    "\n",
    "    for img in images_list[1:]:\n",
    "        image = np.array(PImage.open(path + img))\n",
    "        images.append(image)\n",
    "        label.append(labels[img])\n",
    "        n.append(image.shape[0])\n",
    "        m.append(image.shape[1])\n",
    "    return images, label, n, m\n",
    "    \n",
    "images, labels, n, m = load_and_label(local = False)\n",
    "print(\"Number of images loaded and labeled: \" + str(len(images)))"
   ]
  },
  {
   "cell_type": "markdown",
   "metadata": {},
   "source": [
    "The loaded pictures look like this:"
   ]
  },
  {
   "cell_type": "code",
   "execution_count": 15,
   "metadata": {},
   "outputs": [
    {
     "data": {
      "image/png": "[encoded data removed]",
      "text/plain": [
       "<matplotlib.figure.Figure at 0x10e0343c8>"
      ]
     },
     "metadata": {},
     "output_type": "display_data"
    }
   ],
   "source": [
    "plt.figure()\n",
    "plt.imshow(images[0])\n",
    "plt.show()"
   ]
  },
  {
   "cell_type": "markdown",
   "metadata": {},
   "source": [
    "After loading the pictures and labels we need to explore the dimensions of pictures in order to identify if the whole pictures have the same sizes. To do so, two histograms for the pictures' sizes and mode computation are shown below."
   ]
  },
  {
   "cell_type": "code",
   "execution_count": 44,
   "metadata": {},
   "outputs": [
    {
     "name": "stdout",
     "output_type": "stream",
     "text": [
      "The mode for Height is: ModeResult(mode=array([840]), count=array([934]))\n",
      "The mode for Width is: ModeResult(mode=array([594]), count=array([917]))\n"
     ]
    },
    {
     "data": {
      "image/png": "[encoded data removed]",
      "text/plain": [
       "<matplotlib.figure.Figure at 0x11af065f8>"
      ]
     },
     "metadata": {},
     "output_type": "display_data"
    }
   ],
   "source": [
    "sns.set(color_codes = True)\n",
    "f, axes = plt.subplots(1, 2)\n",
    "f.set_size_inches(18, 6)\n",
    "\n",
    "sns.distplot(n, kde=False, rug=False, ax=axes[0])\n",
    "sns.distplot(m, kde=False, rug=False, ax=axes[1])\n",
    "\n",
    "print(\"The mode for Height is: \" + str(stats.mode(n)))\n",
    "print(\"The mode for Width is: \" + str(stats.mode(m)))"
   ]
  },
  {
   "cell_type": "markdown",
   "metadata": {},
   "source": [
    "Based on the previous results, most of the pictures have **(840, 594)** as size. A refactoring of the **load_and_label** function is mandatory to load the pictures which match with the expected size and discard the remainder. The results are shown below."
   ]
  },
  {
   "cell_type": "code",
   "execution_count": 17,
   "metadata": {},
   "outputs": [
    {
     "name": "stdout",
     "output_type": "stream",
     "text": [
      "Number of images loaded and labeled: 917\n"
     ]
    }
   ],
   "source": [
    "def load_and_label(local: bool):\n",
    "    if local:\n",
    "        path = \"sample/\"\n",
    "    else:\n",
    "        path = \"riminder-test-vision-blanked-resumes-labelled/\"\n",
    "\n",
    "    with open(\"riminder-test-vision-blanked-resumes-labels.json\", \"r\") as read_file:\n",
    "        labels = json.load(read_file)\n",
    "    \n",
    "    images_list = listdir(path)\n",
    "    images_saved = []\n",
    "    images = []\n",
    "    label = []\n",
    "    cont = 0\n",
    "\n",
    "    for img in images_list:\n",
    "        image = np.array(PImage.open(path + img))\n",
    "        if image.shape == (stats.mode(n)[0][0], stats.mode(m)[0][0], 3):\n",
    "            images.append(image)\n",
    "            label.append(labels[img])\n",
    "            images_saved.append(img)\n",
    "            cont += 1\n",
    "            \n",
    "    label = np.array(label)\n",
    "    images = np.vstack(images).reshape([cont, stats.mode(n)[0][0], stats.mode(m)[0][0], 3]).astype(float)\n",
    "    return images, label\n",
    "    \n",
    "images, label = load_and_label(local = False)\n",
    "print(\"Number of images loaded and labeled: \" + str(len(images)))"
   ]
  },
  {
   "cell_type": "markdown",
   "metadata": {},
   "source": [
    "After the refactoring of load_and_label the total number of images loaded is 917. The 55% of the initial amount of pictures. Now, having all the pictures with the same dimensions the next step is to normalized the RGB values. To do so, each entry will be divided by 255. The process is implemented as follows."
   ]
  },
  {
   "cell_type": "code",
   "execution_count": 19,
   "metadata": {},
   "outputs": [],
   "source": [
    "images = images / 255.0"
   ]
  },
  {
   "cell_type": "markdown",
   "metadata": {},
   "source": [
    "After normalization of pixels the pictures look like this. The whole dataset has the same sizes and now the RGB values belongs to $[0, 1]$ interval."
   ]
  },
  {
   "cell_type": "code",
   "execution_count": 21,
   "metadata": {},
   "outputs": [
    {
     "data": {
      "image/png": "[encoded data removed]",
      "text/plain": [
       "<matplotlib.figure.Figure at 0x11af78860>"
      ]
     },
     "metadata": {},
     "output_type": "display_data"
    }
   ],
   "source": [
    "plt.figure()\n",
    "plt.imshow(images[0], cmap = \"viridis\")\n",
    "plt.colorbar()\n",
    "plt.gca().grid(False)\n",
    "plt.show()"
   ]
  },
  {
   "cell_type": "markdown",
   "metadata": {},
   "source": [
    "Now, the next task is to create the label array which encodes the information of original labels. There are four levels for labels: **nothing**, **has_icon**, **has_company** and **has_both**. Based on that, and on the label provided, a vector is created with the following logic.\n",
    "\n",
    "Let be p an ith-picture in the dataset. Thus, \n",
    "\n",
    "   * $Label_i = 1$ if p has nothing inside. On the other hand,  \n",
    "   * $Label_i = 2$ if p has an icon\n",
    "   * $Label_i = 3$ if p has a company logo and\n",
    "   * $Label_i = 4$ if p has both. \n",
    "\n",
    "The implementation is as follows and the final shape of the array is shown below."
   ]
  },
  {
   "cell_type": "code",
   "execution_count": 53,
   "metadata": {},
   "outputs": [
    {
     "data": {
      "text/plain": [
       "(917,)"
      ]
     },
     "execution_count": 53,
     "metadata": {},
     "output_type": "execute_result"
    }
   ],
   "source": [
    "def encoder(x):\n",
    "    if x == \"nothing\":\n",
    "        y = 1\n",
    "    elif x == \"has_icon\":\n",
    "        y = 2\n",
    "    elif x == \"has_company\":\n",
    "        y = 3\n",
    "    else:\n",
    "        y = 4\n",
    "    return y\n",
    "\n",
    "label_encode = np.array(list(map(lambda x: encoder(x), label)))\n",
    "label_encode.shape"
   ]
  },
  {
   "cell_type": "markdown",
   "metadata": {},
   "source": [
    "Finally, is mandatory to create a training and testing samples based on images and label_encode. To do so the following code was developed using Scikit-Learn's train_test_split function. The sizes if each dataset if shown below."
   ]
  },
  {
   "cell_type": "code",
   "execution_count": 54,
   "metadata": {},
   "outputs": [
    {
     "name": "stdout",
     "output_type": "stream",
     "text": [
      "Features for Training (size): (733, 840, 594, 3)\n",
      "Features for Testing (size): (184, 840, 594, 3)\n",
      "Labels for Training (size): (733,)\n",
      "Labels for Training (size): (184,)\n"
     ]
    }
   ],
   "source": [
    "X_train, X_test, labels_train, labels_test = train_test_split(images, label_encode, test_size = 0.2, random_state=42)\n",
    "\n",
    "print(\"Features for Training (size): \" + str(X_train.shape))\n",
    "print(\"Features for Testing (size): \" + str(X_test.shape))\n",
    "print(\"Labels for Training (size): \" + str(labels_train.shape))\n",
    "print(\"Labels for Training (size): \" + str(labels_test.shape))"
   ]
  },
  {
   "cell_type": "markdown",
   "metadata": {},
   "source": [
    "<hr>\n",
    "## Training and Testing Process\n",
    "\n",
    "Based on the dataset provided and after carefully manipulation and pre-processing to create a training and testing datasets (for features and labels) a first modeling task is performed and described as follows.\n",
    "\n",
    "A Convolutional Neural Network will be trained using a conservative architecture to classify images according to the labels created before. Hence, the CNN will be able to identify is a picture contains **nothing** (No companies' logos nor icons) or contains **icons** or contains **companies** or **both**.\n",
    "\n",
    "Regarding the architecture of the CNN, a first ***Flatten*** layer is included to put together all the RGB channels. After that, one **Dense Layer (Fully Connected)** is included with an ***ReLu*** activation function. Finally, another ***Dense Layer (Fully Connected)*** is included using a ***Softmax*** activation function to generate the final output. The implementation is shown below."
   ]
  },
  {
   "cell_type": "code",
   "execution_count": 55,
   "metadata": {},
   "outputs": [],
   "source": [
    "model = keras.Sequential([\n",
    "    keras.layers.Flatten(input_shape = (840, 594, 3)),\n",
    "    keras.layers.Dense(128, activation = tf.nn.relu),\n",
    "    keras.layers.Dense(10, activation = tf.nn.softmax)\n",
    "])"
   ]
  },
  {
   "cell_type": "code",
   "execution_count": 56,
   "metadata": {},
   "outputs": [],
   "source": [
    "model.compile(optimizer = tf.train.AdamOptimizer(), \n",
    "              loss = 'sparse_categorical_crossentropy',\n",
    "              metrics = ['accuracy'])"
   ]
  },
  {
   "cell_type": "code",
   "execution_count": 57,
   "metadata": {},
   "outputs": [
    {
     "name": "stdout",
     "output_type": "stream",
     "text": [
      "Epoch 1/5\n",
      "733/733 [==============================] - 99s 136ms/step - loss: 2.4170 - acc: 0.8186\n",
      "Epoch 2/5\n",
      "733/733 [==============================] - 82s 112ms/step - loss: 2.3089 - acc: 0.8568\n",
      "Epoch 3/5\n",
      "733/733 [==============================] - 76s 103ms/step - loss: 2.3089 - acc: 0.8568\n",
      "Epoch 4/5\n",
      "733/733 [==============================] - 80s 110ms/step - loss: 2.3089 - acc: 0.8568\n",
      "Epoch 5/5\n",
      "733/733 [==============================] - 84s 114ms/step - loss: 2.3089 - acc: 0.8568\n"
     ]
    },
    {
     "data": {
      "text/plain": [
       "<tensorflow.python.keras._impl.keras.callbacks.History at 0x12ab80ac8>"
      ]
     },
     "execution_count": 57,
     "metadata": {},
     "output_type": "execute_result"
    }
   ],
   "source": [
    "model.fit(X_train, labels_train, epochs = 5)"
   ]
  },
  {
   "cell_type": "code",
   "execution_count": 60,
   "metadata": {},
   "outputs": [
    {
     "name": "stdout",
     "output_type": "stream",
     "text": [
      "184/184 [==============================] - 14s 78ms/step\n",
      "Test accuracy: 0.8750000025915063\n"
     ]
    }
   ],
   "source": [
    "test_loss, test_acc = model.evaluate(X_test, labels_test)\n",
    "print('Test accuracy:', test_acc)"
   ]
  }
 ],
 "metadata": {
  "kernelspec": {
   "display_name": "Python 3",
   "language": "python",
   "name": "python3"
  },
  "language_info": {
   "codemirror_mode": {
    "name": "ipython",
    "version": 3
   },
   "file_extension": ".py",
   "mimetype": "text/x-python",
   "name": "python",
   "nbconvert_exporter": "python",
   "pygments_lexer": "ipython3",
   "version": "3.6.3"
  }
 },
 "nbformat": 4,
 "nbformat_minor": 2
}
